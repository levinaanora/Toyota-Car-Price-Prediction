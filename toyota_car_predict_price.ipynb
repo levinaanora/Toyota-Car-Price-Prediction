{
  "nbformat": 4,
  "nbformat_minor": 0,
  "metadata": {
    "colab": {
      "name": "toyota car predict price.ipynb",
      "provenance": [],
      "authorship_tag": "ABX9TyMuPEZ6FiSfH5T/X1bvX9Gu",
      "include_colab_link": true
    },
    "kernelspec": {
      "name": "python3",
      "display_name": "Python 3"
    },
    "language_info": {
      "name": "python"
    }
  },
  "cells": [
    {
      "cell_type": "markdown",
      "metadata": {
        "id": "view-in-github",
        "colab_type": "text"
      },
      "source": [
        "<a href=\"https://colab.research.google.com/github/levinaanora/Toyota-Car-Price-Prediction/blob/main/toyota_car_predict_price.ipynb\" target=\"_parent\"><img src=\"https://colab.research.google.com/assets/colab-badge.svg\" alt=\"Open In Colab\"/></a>"
      ]
    },
    {
      "cell_type": "code",
      "metadata": {
        "id": "2Mm-wHS5liLu"
      },
      "source": [
        "#import library yang dibutuhkan\n",
        "import pandas as pd\n",
        "import seaborn as sn\n",
        "import numpy as np\n",
        "import matplotlib.pyplot as plt\n",
        "from sklearn.model_selection import train_test_split\n",
        "from sklearn.linear_model import LinearRegression"
      ],
      "execution_count": 1,
      "outputs": []
    },
    {
      "cell_type": "code",
      "metadata": {
        "colab": {
          "base_uri": "https://localhost:8080/",
          "height": 419
        },
        "id": "Fgi6K3_Np-_y",
        "outputId": "41af5e87-0844-4df6-b2f6-02beb506c12e"
      },
      "source": [
        "data = pd.read_csv(\"toyota.csv\")\n",
        "data"
      ],
      "execution_count": 11,
      "outputs": [
        {
          "output_type": "execute_result",
          "data": {
            "text/html": [
              "<div>\n",
              "<style scoped>\n",
              "    .dataframe tbody tr th:only-of-type {\n",
              "        vertical-align: middle;\n",
              "    }\n",
              "\n",
              "    .dataframe tbody tr th {\n",
              "        vertical-align: top;\n",
              "    }\n",
              "\n",
              "    .dataframe thead th {\n",
              "        text-align: right;\n",
              "    }\n",
              "</style>\n",
              "<table border=\"1\" class=\"dataframe\">\n",
              "  <thead>\n",
              "    <tr style=\"text-align: right;\">\n",
              "      <th></th>\n",
              "      <th>model</th>\n",
              "      <th>year</th>\n",
              "      <th>price</th>\n",
              "      <th>transmission</th>\n",
              "      <th>mileage</th>\n",
              "      <th>fuelType</th>\n",
              "      <th>tax</th>\n",
              "      <th>mpg</th>\n",
              "      <th>engineSize</th>\n",
              "    </tr>\n",
              "  </thead>\n",
              "  <tbody>\n",
              "    <tr>\n",
              "      <th>0</th>\n",
              "      <td>GT86</td>\n",
              "      <td>2016</td>\n",
              "      <td>16000</td>\n",
              "      <td>Manual</td>\n",
              "      <td>24089</td>\n",
              "      <td>Petrol</td>\n",
              "      <td>265</td>\n",
              "      <td>36.2</td>\n",
              "      <td>2.0</td>\n",
              "    </tr>\n",
              "    <tr>\n",
              "      <th>1</th>\n",
              "      <td>GT86</td>\n",
              "      <td>2017</td>\n",
              "      <td>15995</td>\n",
              "      <td>Manual</td>\n",
              "      <td>18615</td>\n",
              "      <td>Petrol</td>\n",
              "      <td>145</td>\n",
              "      <td>36.2</td>\n",
              "      <td>2.0</td>\n",
              "    </tr>\n",
              "    <tr>\n",
              "      <th>2</th>\n",
              "      <td>GT86</td>\n",
              "      <td>2015</td>\n",
              "      <td>13998</td>\n",
              "      <td>Manual</td>\n",
              "      <td>27469</td>\n",
              "      <td>Petrol</td>\n",
              "      <td>265</td>\n",
              "      <td>36.2</td>\n",
              "      <td>2.0</td>\n",
              "    </tr>\n",
              "    <tr>\n",
              "      <th>3</th>\n",
              "      <td>GT86</td>\n",
              "      <td>2017</td>\n",
              "      <td>18998</td>\n",
              "      <td>Manual</td>\n",
              "      <td>14736</td>\n",
              "      <td>Petrol</td>\n",
              "      <td>150</td>\n",
              "      <td>36.2</td>\n",
              "      <td>2.0</td>\n",
              "    </tr>\n",
              "    <tr>\n",
              "      <th>4</th>\n",
              "      <td>GT86</td>\n",
              "      <td>2017</td>\n",
              "      <td>17498</td>\n",
              "      <td>Manual</td>\n",
              "      <td>36284</td>\n",
              "      <td>Petrol</td>\n",
              "      <td>145</td>\n",
              "      <td>36.2</td>\n",
              "      <td>2.0</td>\n",
              "    </tr>\n",
              "    <tr>\n",
              "      <th>...</th>\n",
              "      <td>...</td>\n",
              "      <td>...</td>\n",
              "      <td>...</td>\n",
              "      <td>...</td>\n",
              "      <td>...</td>\n",
              "      <td>...</td>\n",
              "      <td>...</td>\n",
              "      <td>...</td>\n",
              "      <td>...</td>\n",
              "    </tr>\n",
              "    <tr>\n",
              "      <th>6733</th>\n",
              "      <td>IQ</td>\n",
              "      <td>2011</td>\n",
              "      <td>5500</td>\n",
              "      <td>Automatic</td>\n",
              "      <td>30000</td>\n",
              "      <td>Petrol</td>\n",
              "      <td>20</td>\n",
              "      <td>58.9</td>\n",
              "      <td>1.0</td>\n",
              "    </tr>\n",
              "    <tr>\n",
              "      <th>6734</th>\n",
              "      <td>Urban Cruiser</td>\n",
              "      <td>2011</td>\n",
              "      <td>4985</td>\n",
              "      <td>Manual</td>\n",
              "      <td>36154</td>\n",
              "      <td>Petrol</td>\n",
              "      <td>125</td>\n",
              "      <td>50.4</td>\n",
              "      <td>1.3</td>\n",
              "    </tr>\n",
              "    <tr>\n",
              "      <th>6735</th>\n",
              "      <td>Urban Cruiser</td>\n",
              "      <td>2012</td>\n",
              "      <td>4995</td>\n",
              "      <td>Manual</td>\n",
              "      <td>46000</td>\n",
              "      <td>Diesel</td>\n",
              "      <td>125</td>\n",
              "      <td>57.6</td>\n",
              "      <td>1.4</td>\n",
              "    </tr>\n",
              "    <tr>\n",
              "      <th>6736</th>\n",
              "      <td>Urban Cruiser</td>\n",
              "      <td>2011</td>\n",
              "      <td>3995</td>\n",
              "      <td>Manual</td>\n",
              "      <td>60700</td>\n",
              "      <td>Petrol</td>\n",
              "      <td>125</td>\n",
              "      <td>50.4</td>\n",
              "      <td>1.3</td>\n",
              "    </tr>\n",
              "    <tr>\n",
              "      <th>6737</th>\n",
              "      <td>Urban Cruiser</td>\n",
              "      <td>2011</td>\n",
              "      <td>4495</td>\n",
              "      <td>Manual</td>\n",
              "      <td>45128</td>\n",
              "      <td>Petrol</td>\n",
              "      <td>125</td>\n",
              "      <td>50.4</td>\n",
              "      <td>1.3</td>\n",
              "    </tr>\n",
              "  </tbody>\n",
              "</table>\n",
              "<p>6738 rows × 9 columns</p>\n",
              "</div>"
            ],
            "text/plain": [
              "               model  year  price transmission  ...  fuelType  tax   mpg  engineSize\n",
              "0               GT86  2016  16000       Manual  ...    Petrol  265  36.2         2.0\n",
              "1               GT86  2017  15995       Manual  ...    Petrol  145  36.2         2.0\n",
              "2               GT86  2015  13998       Manual  ...    Petrol  265  36.2         2.0\n",
              "3               GT86  2017  18998       Manual  ...    Petrol  150  36.2         2.0\n",
              "4               GT86  2017  17498       Manual  ...    Petrol  145  36.2         2.0\n",
              "...              ...   ...    ...          ...  ...       ...  ...   ...         ...\n",
              "6733              IQ  2011   5500    Automatic  ...    Petrol   20  58.9         1.0\n",
              "6734   Urban Cruiser  2011   4985       Manual  ...    Petrol  125  50.4         1.3\n",
              "6735   Urban Cruiser  2012   4995       Manual  ...    Diesel  125  57.6         1.4\n",
              "6736   Urban Cruiser  2011   3995       Manual  ...    Petrol  125  50.4         1.3\n",
              "6737   Urban Cruiser  2011   4495       Manual  ...    Petrol  125  50.4         1.3\n",
              "\n",
              "[6738 rows x 9 columns]"
            ]
          },
          "metadata": {},
          "execution_count": 11
        }
      ]
    },
    {
      "cell_type": "code",
      "metadata": {
        "colab": {
          "base_uri": "https://localhost:8080/",
          "height": 297
        },
        "id": "jEpEwRRVqNfP",
        "outputId": "a47e6ddb-f02f-4836-fb99-66c0ba998151"
      },
      "source": [
        "data.describe()"
      ],
      "execution_count": 12,
      "outputs": [
        {
          "output_type": "execute_result",
          "data": {
            "text/html": [
              "<div>\n",
              "<style scoped>\n",
              "    .dataframe tbody tr th:only-of-type {\n",
              "        vertical-align: middle;\n",
              "    }\n",
              "\n",
              "    .dataframe tbody tr th {\n",
              "        vertical-align: top;\n",
              "    }\n",
              "\n",
              "    .dataframe thead th {\n",
              "        text-align: right;\n",
              "    }\n",
              "</style>\n",
              "<table border=\"1\" class=\"dataframe\">\n",
              "  <thead>\n",
              "    <tr style=\"text-align: right;\">\n",
              "      <th></th>\n",
              "      <th>year</th>\n",
              "      <th>price</th>\n",
              "      <th>mileage</th>\n",
              "      <th>tax</th>\n",
              "      <th>mpg</th>\n",
              "      <th>engineSize</th>\n",
              "    </tr>\n",
              "  </thead>\n",
              "  <tbody>\n",
              "    <tr>\n",
              "      <th>count</th>\n",
              "      <td>6738.000000</td>\n",
              "      <td>6738.000000</td>\n",
              "      <td>6738.000000</td>\n",
              "      <td>6738.000000</td>\n",
              "      <td>6738.000000</td>\n",
              "      <td>6738.000000</td>\n",
              "    </tr>\n",
              "    <tr>\n",
              "      <th>mean</th>\n",
              "      <td>2016.748145</td>\n",
              "      <td>12522.391066</td>\n",
              "      <td>22857.413921</td>\n",
              "      <td>94.697240</td>\n",
              "      <td>63.042223</td>\n",
              "      <td>1.471297</td>\n",
              "    </tr>\n",
              "    <tr>\n",
              "      <th>std</th>\n",
              "      <td>2.204062</td>\n",
              "      <td>6345.017587</td>\n",
              "      <td>19125.464147</td>\n",
              "      <td>73.880776</td>\n",
              "      <td>15.836710</td>\n",
              "      <td>0.436159</td>\n",
              "    </tr>\n",
              "    <tr>\n",
              "      <th>min</th>\n",
              "      <td>1998.000000</td>\n",
              "      <td>850.000000</td>\n",
              "      <td>2.000000</td>\n",
              "      <td>0.000000</td>\n",
              "      <td>2.800000</td>\n",
              "      <td>0.000000</td>\n",
              "    </tr>\n",
              "    <tr>\n",
              "      <th>25%</th>\n",
              "      <td>2016.000000</td>\n",
              "      <td>8290.000000</td>\n",
              "      <td>9446.000000</td>\n",
              "      <td>0.000000</td>\n",
              "      <td>55.400000</td>\n",
              "      <td>1.000000</td>\n",
              "    </tr>\n",
              "    <tr>\n",
              "      <th>50%</th>\n",
              "      <td>2017.000000</td>\n",
              "      <td>10795.000000</td>\n",
              "      <td>18513.000000</td>\n",
              "      <td>135.000000</td>\n",
              "      <td>62.800000</td>\n",
              "      <td>1.500000</td>\n",
              "    </tr>\n",
              "    <tr>\n",
              "      <th>75%</th>\n",
              "      <td>2018.000000</td>\n",
              "      <td>14995.000000</td>\n",
              "      <td>31063.750000</td>\n",
              "      <td>145.000000</td>\n",
              "      <td>69.000000</td>\n",
              "      <td>1.800000</td>\n",
              "    </tr>\n",
              "    <tr>\n",
              "      <th>max</th>\n",
              "      <td>2020.000000</td>\n",
              "      <td>59995.000000</td>\n",
              "      <td>174419.000000</td>\n",
              "      <td>565.000000</td>\n",
              "      <td>235.000000</td>\n",
              "      <td>4.500000</td>\n",
              "    </tr>\n",
              "  </tbody>\n",
              "</table>\n",
              "</div>"
            ],
            "text/plain": [
              "              year         price  ...          mpg   engineSize\n",
              "count  6738.000000   6738.000000  ...  6738.000000  6738.000000\n",
              "mean   2016.748145  12522.391066  ...    63.042223     1.471297\n",
              "std       2.204062   6345.017587  ...    15.836710     0.436159\n",
              "min    1998.000000    850.000000  ...     2.800000     0.000000\n",
              "25%    2016.000000   8290.000000  ...    55.400000     1.000000\n",
              "50%    2017.000000  10795.000000  ...    62.800000     1.500000\n",
              "75%    2018.000000  14995.000000  ...    69.000000     1.800000\n",
              "max    2020.000000  59995.000000  ...   235.000000     4.500000\n",
              "\n",
              "[8 rows x 6 columns]"
            ]
          },
          "metadata": {},
          "execution_count": 12
        }
      ]
    },
    {
      "cell_type": "code",
      "metadata": {
        "id": "SHu4dttEqVgD"
      },
      "source": [
        "del data[\"model\"], data[\"transmission\"], data[\"fuelType\"]"
      ],
      "execution_count": 25,
      "outputs": []
    },
    {
      "cell_type": "code",
      "metadata": {
        "colab": {
          "base_uri": "https://localhost:8080/"
        },
        "id": "SvyXWUDLrOk9",
        "outputId": "a8e76f49-2931-48d3-f5d2-90ae447e1fab"
      },
      "source": [
        "data.columns"
      ],
      "execution_count": 26,
      "outputs": [
        {
          "output_type": "execute_result",
          "data": {
            "text/plain": [
              "Index(['year', 'price', 'mileage', 'tax', 'mpg', 'engineSize'], dtype='object')"
            ]
          },
          "metadata": {},
          "execution_count": 26
        }
      ]
    },
    {
      "cell_type": "code",
      "metadata": {
        "colab": {
          "base_uri": "https://localhost:8080/"
        },
        "id": "nSkKrKKxuBIc",
        "outputId": "1b7f0bda-ae58-4052-dbd9-dedc5aa5f613"
      },
      "source": [
        "data.isnull().sum()"
      ],
      "execution_count": 27,
      "outputs": [
        {
          "output_type": "execute_result",
          "data": {
            "text/plain": [
              "year          0\n",
              "price         0\n",
              "mileage       0\n",
              "tax           0\n",
              "mpg           0\n",
              "engineSize    0\n",
              "dtype: int64"
            ]
          },
          "metadata": {},
          "execution_count": 27
        }
      ]
    },
    {
      "cell_type": "code",
      "metadata": {
        "colab": {
          "base_uri": "https://localhost:8080/",
          "height": 204
        },
        "id": "oz38rUh2ulGj",
        "outputId": "bc36aacd-87b4-4e9d-f6de-bfb8599dcb9d"
      },
      "source": [
        "data.head()"
      ],
      "execution_count": 28,
      "outputs": [
        {
          "output_type": "execute_result",
          "data": {
            "text/html": [
              "<div>\n",
              "<style scoped>\n",
              "    .dataframe tbody tr th:only-of-type {\n",
              "        vertical-align: middle;\n",
              "    }\n",
              "\n",
              "    .dataframe tbody tr th {\n",
              "        vertical-align: top;\n",
              "    }\n",
              "\n",
              "    .dataframe thead th {\n",
              "        text-align: right;\n",
              "    }\n",
              "</style>\n",
              "<table border=\"1\" class=\"dataframe\">\n",
              "  <thead>\n",
              "    <tr style=\"text-align: right;\">\n",
              "      <th></th>\n",
              "      <th>year</th>\n",
              "      <th>price</th>\n",
              "      <th>mileage</th>\n",
              "      <th>tax</th>\n",
              "      <th>mpg</th>\n",
              "      <th>engineSize</th>\n",
              "    </tr>\n",
              "  </thead>\n",
              "  <tbody>\n",
              "    <tr>\n",
              "      <th>0</th>\n",
              "      <td>2016</td>\n",
              "      <td>16000</td>\n",
              "      <td>24089</td>\n",
              "      <td>265</td>\n",
              "      <td>36.2</td>\n",
              "      <td>2.0</td>\n",
              "    </tr>\n",
              "    <tr>\n",
              "      <th>1</th>\n",
              "      <td>2017</td>\n",
              "      <td>15995</td>\n",
              "      <td>18615</td>\n",
              "      <td>145</td>\n",
              "      <td>36.2</td>\n",
              "      <td>2.0</td>\n",
              "    </tr>\n",
              "    <tr>\n",
              "      <th>2</th>\n",
              "      <td>2015</td>\n",
              "      <td>13998</td>\n",
              "      <td>27469</td>\n",
              "      <td>265</td>\n",
              "      <td>36.2</td>\n",
              "      <td>2.0</td>\n",
              "    </tr>\n",
              "    <tr>\n",
              "      <th>3</th>\n",
              "      <td>2017</td>\n",
              "      <td>18998</td>\n",
              "      <td>14736</td>\n",
              "      <td>150</td>\n",
              "      <td>36.2</td>\n",
              "      <td>2.0</td>\n",
              "    </tr>\n",
              "    <tr>\n",
              "      <th>4</th>\n",
              "      <td>2017</td>\n",
              "      <td>17498</td>\n",
              "      <td>36284</td>\n",
              "      <td>145</td>\n",
              "      <td>36.2</td>\n",
              "      <td>2.0</td>\n",
              "    </tr>\n",
              "  </tbody>\n",
              "</table>\n",
              "</div>"
            ],
            "text/plain": [
              "   year  price  mileage  tax   mpg  engineSize\n",
              "0  2016  16000    24089  265  36.2         2.0\n",
              "1  2017  15995    18615  145  36.2         2.0\n",
              "2  2015  13998    27469  265  36.2         2.0\n",
              "3  2017  18998    14736  150  36.2         2.0\n",
              "4  2017  17498    36284  145  36.2         2.0"
            ]
          },
          "metadata": {},
          "execution_count": 28
        }
      ]
    },
    {
      "cell_type": "code",
      "metadata": {
        "id": "1zo3vmUAuF9G"
      },
      "source": [
        "X = data.drop(columns =[\"price\"])\n",
        "y = data[\"price\"]"
      ],
      "execution_count": 41,
      "outputs": []
    },
    {
      "cell_type": "code",
      "metadata": {
        "colab": {
          "base_uri": "https://localhost:8080/",
          "height": 419
        },
        "id": "cVdsYYDCwFVy",
        "outputId": "286c6787-71f8-4788-b038-fa68cda0f45a"
      },
      "source": [
        "X"
      ],
      "execution_count": 42,
      "outputs": [
        {
          "output_type": "execute_result",
          "data": {
            "text/html": [
              "<div>\n",
              "<style scoped>\n",
              "    .dataframe tbody tr th:only-of-type {\n",
              "        vertical-align: middle;\n",
              "    }\n",
              "\n",
              "    .dataframe tbody tr th {\n",
              "        vertical-align: top;\n",
              "    }\n",
              "\n",
              "    .dataframe thead th {\n",
              "        text-align: right;\n",
              "    }\n",
              "</style>\n",
              "<table border=\"1\" class=\"dataframe\">\n",
              "  <thead>\n",
              "    <tr style=\"text-align: right;\">\n",
              "      <th></th>\n",
              "      <th>year</th>\n",
              "      <th>mileage</th>\n",
              "      <th>tax</th>\n",
              "      <th>mpg</th>\n",
              "      <th>engineSize</th>\n",
              "    </tr>\n",
              "  </thead>\n",
              "  <tbody>\n",
              "    <tr>\n",
              "      <th>0</th>\n",
              "      <td>2016</td>\n",
              "      <td>24089</td>\n",
              "      <td>265</td>\n",
              "      <td>36.2</td>\n",
              "      <td>2.0</td>\n",
              "    </tr>\n",
              "    <tr>\n",
              "      <th>1</th>\n",
              "      <td>2017</td>\n",
              "      <td>18615</td>\n",
              "      <td>145</td>\n",
              "      <td>36.2</td>\n",
              "      <td>2.0</td>\n",
              "    </tr>\n",
              "    <tr>\n",
              "      <th>2</th>\n",
              "      <td>2015</td>\n",
              "      <td>27469</td>\n",
              "      <td>265</td>\n",
              "      <td>36.2</td>\n",
              "      <td>2.0</td>\n",
              "    </tr>\n",
              "    <tr>\n",
              "      <th>3</th>\n",
              "      <td>2017</td>\n",
              "      <td>14736</td>\n",
              "      <td>150</td>\n",
              "      <td>36.2</td>\n",
              "      <td>2.0</td>\n",
              "    </tr>\n",
              "    <tr>\n",
              "      <th>4</th>\n",
              "      <td>2017</td>\n",
              "      <td>36284</td>\n",
              "      <td>145</td>\n",
              "      <td>36.2</td>\n",
              "      <td>2.0</td>\n",
              "    </tr>\n",
              "    <tr>\n",
              "      <th>...</th>\n",
              "      <td>...</td>\n",
              "      <td>...</td>\n",
              "      <td>...</td>\n",
              "      <td>...</td>\n",
              "      <td>...</td>\n",
              "    </tr>\n",
              "    <tr>\n",
              "      <th>6733</th>\n",
              "      <td>2011</td>\n",
              "      <td>30000</td>\n",
              "      <td>20</td>\n",
              "      <td>58.9</td>\n",
              "      <td>1.0</td>\n",
              "    </tr>\n",
              "    <tr>\n",
              "      <th>6734</th>\n",
              "      <td>2011</td>\n",
              "      <td>36154</td>\n",
              "      <td>125</td>\n",
              "      <td>50.4</td>\n",
              "      <td>1.3</td>\n",
              "    </tr>\n",
              "    <tr>\n",
              "      <th>6735</th>\n",
              "      <td>2012</td>\n",
              "      <td>46000</td>\n",
              "      <td>125</td>\n",
              "      <td>57.6</td>\n",
              "      <td>1.4</td>\n",
              "    </tr>\n",
              "    <tr>\n",
              "      <th>6736</th>\n",
              "      <td>2011</td>\n",
              "      <td>60700</td>\n",
              "      <td>125</td>\n",
              "      <td>50.4</td>\n",
              "      <td>1.3</td>\n",
              "    </tr>\n",
              "    <tr>\n",
              "      <th>6737</th>\n",
              "      <td>2011</td>\n",
              "      <td>45128</td>\n",
              "      <td>125</td>\n",
              "      <td>50.4</td>\n",
              "      <td>1.3</td>\n",
              "    </tr>\n",
              "  </tbody>\n",
              "</table>\n",
              "<p>6738 rows × 5 columns</p>\n",
              "</div>"
            ],
            "text/plain": [
              "      year  mileage  tax   mpg  engineSize\n",
              "0     2016    24089  265  36.2         2.0\n",
              "1     2017    18615  145  36.2         2.0\n",
              "2     2015    27469  265  36.2         2.0\n",
              "3     2017    14736  150  36.2         2.0\n",
              "4     2017    36284  145  36.2         2.0\n",
              "...    ...      ...  ...   ...         ...\n",
              "6733  2011    30000   20  58.9         1.0\n",
              "6734  2011    36154  125  50.4         1.3\n",
              "6735  2012    46000  125  57.6         1.4\n",
              "6736  2011    60700  125  50.4         1.3\n",
              "6737  2011    45128  125  50.4         1.3\n",
              "\n",
              "[6738 rows x 5 columns]"
            ]
          },
          "metadata": {},
          "execution_count": 42
        }
      ]
    },
    {
      "cell_type": "code",
      "metadata": {
        "colab": {
          "base_uri": "https://localhost:8080/"
        },
        "id": "_h4d3xB8wL6k",
        "outputId": "933e0587-e6b3-488a-be96-6b6b920b1e83"
      },
      "source": [
        "y"
      ],
      "execution_count": 43,
      "outputs": [
        {
          "output_type": "execute_result",
          "data": {
            "text/plain": [
              "0       16000\n",
              "1       15995\n",
              "2       13998\n",
              "3       18998\n",
              "4       17498\n",
              "        ...  \n",
              "6733     5500\n",
              "6734     4985\n",
              "6735     4995\n",
              "6736     3995\n",
              "6737     4495\n",
              "Name: price, Length: 6738, dtype: int64"
            ]
          },
          "metadata": {},
          "execution_count": 43
        }
      ]
    },
    {
      "cell_type": "code",
      "metadata": {
        "id": "Z13X4ECvu8qq"
      },
      "source": [
        "X_train, X_test, y_train, y_test = train_test_split(X, y , test_size=0.2, random_state=42)"
      ],
      "execution_count": 44,
      "outputs": []
    },
    {
      "cell_type": "code",
      "metadata": {
        "colab": {
          "base_uri": "https://localhost:8080/"
        },
        "id": "eT1VTNIzv0bD",
        "outputId": "a3237b23-67c2-48ad-8d05-ad07465a3115"
      },
      "source": [
        "X_train.shape"
      ],
      "execution_count": 45,
      "outputs": [
        {
          "output_type": "execute_result",
          "data": {
            "text/plain": [
              "(5390, 5)"
            ]
          },
          "metadata": {},
          "execution_count": 45
        }
      ]
    },
    {
      "cell_type": "code",
      "metadata": {
        "colab": {
          "base_uri": "https://localhost:8080/"
        },
        "id": "qT2AsWdTv4pf",
        "outputId": "2576a30b-b03d-4ab0-8ed6-4cad47aa07c7"
      },
      "source": [
        "y_train.shape"
      ],
      "execution_count": 46,
      "outputs": [
        {
          "output_type": "execute_result",
          "data": {
            "text/plain": [
              "(5390,)"
            ]
          },
          "metadata": {},
          "execution_count": 46
        }
      ]
    },
    {
      "cell_type": "code",
      "metadata": {
        "colab": {
          "base_uri": "https://localhost:8080/"
        },
        "id": "Y5hjxCGGvgPA",
        "outputId": "7d30723a-064a-4763-8fd5-6a7a287ce205"
      },
      "source": [
        "linreg = LinearRegression()\n",
        "linreg.fit(X_train, y_train)"
      ],
      "execution_count": 47,
      "outputs": [
        {
          "output_type": "execute_result",
          "data": {
            "text/plain": [
              "LinearRegression(copy_X=True, fit_intercept=True, n_jobs=None, normalize=False)"
            ]
          },
          "metadata": {},
          "execution_count": 47
        }
      ]
    },
    {
      "cell_type": "code",
      "metadata": {
        "id": "HqvBAHaZwsyT"
      },
      "source": [
        "y_pred = linreg.predict(X_test)"
      ],
      "execution_count": 48,
      "outputs": []
    },
    {
      "cell_type": "code",
      "metadata": {
        "colab": {
          "base_uri": "https://localhost:8080/",
          "height": 419
        },
        "id": "WlFuR79cxIEG",
        "outputId": "469fa6b5-706a-43ab-9a54-1749e17ed9bf"
      },
      "source": [
        "new_df = {\n",
        "    'y_test' : y_test,\n",
        "    'y_pred' : y_pred\n",
        "}\n",
        "evaluate = pd.DataFrame(new_df, columns=['y_test', 'y_pred'])\n",
        "evaluate"
      ],
      "execution_count": 49,
      "outputs": [
        {
          "output_type": "execute_result",
          "data": {
            "text/html": [
              "<div>\n",
              "<style scoped>\n",
              "    .dataframe tbody tr th:only-of-type {\n",
              "        vertical-align: middle;\n",
              "    }\n",
              "\n",
              "    .dataframe tbody tr th {\n",
              "        vertical-align: top;\n",
              "    }\n",
              "\n",
              "    .dataframe thead th {\n",
              "        text-align: right;\n",
              "    }\n",
              "</style>\n",
              "<table border=\"1\" class=\"dataframe\">\n",
              "  <thead>\n",
              "    <tr style=\"text-align: right;\">\n",
              "      <th></th>\n",
              "      <th>y_test</th>\n",
              "      <th>y_pred</th>\n",
              "    </tr>\n",
              "  </thead>\n",
              "  <tbody>\n",
              "    <tr>\n",
              "      <th>381</th>\n",
              "      <td>37440</td>\n",
              "      <td>27458.047546</td>\n",
              "    </tr>\n",
              "    <tr>\n",
              "      <th>2476</th>\n",
              "      <td>4159</td>\n",
              "      <td>1863.149581</td>\n",
              "    </tr>\n",
              "    <tr>\n",
              "      <th>2855</th>\n",
              "      <td>10600</td>\n",
              "      <td>12878.805698</td>\n",
              "    </tr>\n",
              "    <tr>\n",
              "      <th>2018</th>\n",
              "      <td>8995</td>\n",
              "      <td>11010.453154</td>\n",
              "    </tr>\n",
              "    <tr>\n",
              "      <th>2185</th>\n",
              "      <td>11000</td>\n",
              "      <td>12914.304236</td>\n",
              "    </tr>\n",
              "    <tr>\n",
              "      <th>...</th>\n",
              "      <td>...</td>\n",
              "      <td>...</td>\n",
              "    </tr>\n",
              "    <tr>\n",
              "      <th>4715</th>\n",
              "      <td>10800</td>\n",
              "      <td>8709.716518</td>\n",
              "    </tr>\n",
              "    <tr>\n",
              "      <th>5374</th>\n",
              "      <td>7495</td>\n",
              "      <td>6949.281014</td>\n",
              "    </tr>\n",
              "    <tr>\n",
              "      <th>1027</th>\n",
              "      <td>10790</td>\n",
              "      <td>14217.063431</td>\n",
              "    </tr>\n",
              "    <tr>\n",
              "      <th>2802</th>\n",
              "      <td>9991</td>\n",
              "      <td>7888.979350</td>\n",
              "    </tr>\n",
              "    <tr>\n",
              "      <th>3789</th>\n",
              "      <td>8298</td>\n",
              "      <td>8750.443632</td>\n",
              "    </tr>\n",
              "  </tbody>\n",
              "</table>\n",
              "<p>1348 rows × 2 columns</p>\n",
              "</div>"
            ],
            "text/plain": [
              "      y_test        y_pred\n",
              "381    37440  27458.047546\n",
              "2476    4159   1863.149581\n",
              "2855   10600  12878.805698\n",
              "2018    8995  11010.453154\n",
              "2185   11000  12914.304236\n",
              "...      ...           ...\n",
              "4715   10800   8709.716518\n",
              "5374    7495   6949.281014\n",
              "1027   10790  14217.063431\n",
              "2802    9991   7888.979350\n",
              "3789    8298   8750.443632\n",
              "\n",
              "[1348 rows x 2 columns]"
            ]
          },
          "metadata": {},
          "execution_count": 49
        }
      ]
    },
    {
      "cell_type": "code",
      "metadata": {
        "colab": {
          "base_uri": "https://localhost:8080/"
        },
        "id": "t0U7EFaGxsjL",
        "outputId": "e7dc6906-41d4-4c07-caaa-6eda7fd8a834"
      },
      "source": [
        "linreg.score(X_test, y_test)"
      ],
      "execution_count": 50,
      "outputs": [
        {
          "output_type": "execute_result",
          "data": {
            "text/plain": [
              "0.7658935417346331"
            ]
          },
          "metadata": {},
          "execution_count": 50
        }
      ]
    }
  ]
}